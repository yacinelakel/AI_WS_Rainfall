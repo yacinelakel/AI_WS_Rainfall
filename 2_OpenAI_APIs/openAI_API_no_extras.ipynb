{
 "cells": [
  {
   "cell_type": "markdown",
   "id": "e5b59266",
   "metadata": {},
   "source": [
    "## Initialisering\n",
    "For at eksemplene i notebooken skal fungere smertefritt, må openai og dotenv (python-dotenv)-bibliotekene være installert i miljøet der du starter notebooken. Om nødvendig kan du kjøre `!pip install <library>` i en kode-celle for å installere et manglende bibliotek. \n",
    "\n",
    "Før vi begynner å gjøre noe interessant, må vi importere noen bibliotek og metoder, og vi må lese inn en gyldig openai-nøkkel (leses her fra en lokal .env - fil)."
   ]
  },
  {
   "cell_type": "code",
   "execution_count": null,
   "id": "a5307aae-1834-4027-9c19-5a90ffdd6e1f",
   "metadata": {},
   "outputs": [],
   "source": [
    "# bibliotek vi trenger i dette kapittelet\n",
    "import os\n",
    "import openai\n",
    "from openai import OpenAI\n",
    "from dotenv import load_dotenv, find_dotenv\n",
    "import pandas as pd\n",
    "import numpy as np\n",
    "import tiktoken\n",
    "import json\n",
    "from pprint import pprint\n",
    "\n",
    "import matplotlib.pyplot as plt\n",
    "from matplotlib.colors import LinearSegmentedColormap, ListedColormap\n",
    "import seaborn as sns\n",
    "from sklearn.decomposition import PCA\n",
    "from sklearn.metrics.pairwise import cosine_similarity\n",
    "from sklearn.manifold import TSNE\n",
    "from IPython.display import display, HTML\n",
    "\n",
    "# nyttig pandas setting\n",
    "pd.options.mode.copy_on_write = True"
   ]
  },
  {
   "cell_type": "code",
   "execution_count": null,
   "id": "e89a3aed",
   "metadata": {},
   "outputs": [],
   "source": [
    "# leser API-nøkkel og initialiserer OpenAI-klient\n",
    "\n",
    "_ = load_dotenv(find_dotenv()) # leser fra lokal .env - fil\n",
    "openai.api_key  = os.environ['OPENAI_API_KEY']\n",
    "\n",
    "client=OpenAI()"
   ]
  },
  {
   "cell_type": "markdown",
   "id": "4be6f32a-6052-4d5b-a4d4-47e40dfe0a77",
   "metadata": {},
   "source": [
    "## Gruppering og klassifisering av tekst ved hjelp av embeddings\n",
    "\n",
    "Siden embeddings jo bare er vektorer med flyttall, er de teknisk sett enkle å plugge inn i forskjellige analysemetoder. En interessant mulighet er å  bruke ulike dimensjonsreduserings-teknikker til å gruppere og klassifisere tekster. \n",
    "\n",
    "Under gjør vi en prinsipalkomponent - analyse av eksempeldataene vi brukte over. Litt forenklet \"tvinger\" vi det 1536-dimensjonale rommet vi egentlig er i ned i færre dimensjoner, som er enklere for menneskehjerner å forholde seg til. \n",
    "\n",
    "Før vi begynner definerer vi noen hjelpefunksjoner:"
   ]
  },
  {
   "cell_type": "code",
   "execution_count": null,
   "id": "8c9de4d6-9191-452b-bd3b-b8f611fb0ae8",
   "metadata": {},
   "outputs": [],
   "source": [
    "# Lager nye hjelpefunksjoner for mer effektiv håndtering av embeddings\n",
    "\n",
    "# hjelpefunksjon for å sjekke antall tokens i tekst\n",
    "def token_count(text, encoding_model):\n",
    "    encoding=tiktoken.get_encoding(encoding_model)\n",
    "    n_tokens = len(encoding.encode(text))\n",
    "    return n_tokens\n",
    "    \n",
    "# funksjon som for en gitt tekst (text) returnerer embedding-vektor som numpy-array \n",
    "def embed_helper_2(AIclient, text, model_name):\n",
    "    embedding=client.embeddings.create(\n",
    "          model=model_name,\n",
    "          input=text,\n",
    "          encoding_format=\"float\")\n",
    "    return np.array(embedding.data[0].embedding).reshape(1,-1)\n",
    "\n",
    "# hjelpefunksjon for å lagre embeddings, lables og eventuelle kategorier (cats) fra dataframe i numpy arrays.\n",
    "def embed_df(AIclient, df, text_col, label_col, cat_col, model_name): \n",
    "    embedding_array=df.apply(lambda row: embed_helper_2(AIclient, row[text_col], model_name)[0], axis=1, result_type=\"expand\")\n",
    "    labels=df[label_col]\n",
    "    cats=df[cat_col]\n",
    "    return np.asarray(embedding_array), np.asarray(labels),  np.asarray(cats)\n",
    "\n",
    "# similaritetsberegning for array\n",
    "def similarity_rank_2(AIclient, embed_array, input_text, embed_model): \n",
    "    input_text_embedded=embed_helper_2(AIclient, input_text, embed_model)\n",
    "    similarities=cosine_similarity(embed_array,input_text_embedded)\n",
    "    return similarities\n"
   ]
  },
  {
   "cell_type": "code",
   "execution_count": null,
   "id": "0cc6b719-9747-4151-b559-1b5208c5a6d0",
   "metadata": {},
   "outputs": [],
   "source": [
    "# prinsipalkomponent-analyse m plotting av 2 første komponenter\n",
    "\n",
    "def plot_embeddings(embedding_vectors, labels, cats):\n",
    "    # Create a PCA model\n",
    "    pca_model = PCA(random_state=42)\n",
    "\n",
    "    # Fit and transform the data to obtain PCA coordinates\n",
    "    pca_result = pca_model.fit(embedding_vectors)\n",
    "    \n",
    "    #print(\"PCA 2-components explained variance:\" + str(pca_result.explained_variance_ratio_) + \"\\n\")\n",
    "    pca_trans = pca_model.fit_transform(embedding_vectors)\n",
    "\n",
    "    # Plot the PCA results\n",
    "    # explained variance\n",
    "    fig=plt.figure(figsize=(8, 12))\n",
    "    \n",
    "    ax=fig.add_subplot(211)\n",
    "    plt.title('PCA Explained variance by no. of components')\n",
    "    plt.plot(np.cumsum(pca_result.explained_variance_ratio_))\n",
    "    plt.grid(alpha=0.2)\n",
    "\n",
    "     # scatterplot by artist\n",
    "    ax=fig.add_subplot(212)\n",
    "    plt.title('PCA Projection of Embedding Vectors')\n",
    "    \n",
    "    cat_list=list(set(cats))\n",
    "    cat_vals=np.asarray([cat_list.index(c) for c in cats])\n",
    "\n",
    "    cmap='tab20'\n",
    "    color_map = plt.colormaps[cmap].resampled(20)\n",
    "      \n",
    "    for i, cat in enumerate(cat_list):\n",
    "        filter_arr = []\n",
    "        for catval in cats:\n",
    "            if catval==cat:\n",
    "                filter_arr.append(True)\n",
    "            else:\n",
    "                filter_arr.append(False)\n",
    "\n",
    "        plt.scatter(pca_trans[filter_arr, 0], pca_trans[filter_arr, 1], color=color_map(i/len(cat_list)), label=cat, s=20)  \n",
    "\n",
    "    plt.legend()\n",
    "    plt.grid(alpha=0.2)\n",
    "    plt.xlabel('PCA component 1')\n",
    "    plt.ylabel('PCA component 2')\n",
    "    plt.show()       \n"
   ]
  },
  {
   "cell_type": "markdown",
   "id": "b4be2dac-b509-4269-845e-55f63de9c7d6",
   "metadata": {},
   "source": [
    "Filen \"lyrics.csv\" inneholder rundt 25 000 sangtekster med kjente, kjære og mindre kjære artister. Under tester vi noen av de samme teknikkene på disse dataene. \n",
    "\n",
    "Først leser vi inn hele datasettet og lager etpar hjelpevariable. "
   ]
  },
  {
   "cell_type": "code",
   "execution_count": null,
   "id": "dd28866f-fac0-4614-8bb2-e38918fc0dfb",
   "metadata": {},
   "outputs": [],
   "source": [
    "# innlesning av sangtekst datasett (25 000 sanger)\n",
    "df_sang = pd.read_csv('data/lyrics.csv', header=0, sep=',')\n",
    "\n",
    "# hjelpevariable for litt enklere oppslag og navigasjon\n",
    "df_sang['n_tokens']=df_sang.apply(lambda row: token_count(row['lyrics'], \"cl100k_base\"), axis=1)\n",
    "df_sang['song_id']=df_sang.index\n",
    "df_sang['artist']=df_sang['artist'].apply(lambda x: x[:-7]) # fjerner unødvendig \"Lyrics\" i artistnavn \n",
    "df_sang['song_label']=df_sang['song_id'].apply(str) + \" - \" + df_sang['artist'] + \" - \" +df_sang['song_name']\n",
    "\n",
    "# rask inspeksjon\n",
    "df_sang"
   ]
  },
  {
   "cell_type": "code",
   "execution_count": null,
   "id": "a4c849fc-6b97-42f6-b8b1-cdfbde0c6e90",
   "metadata": {},
   "outputs": [],
   "source": [
    "# sjekk av artister - viser de 200 med flest sanger (kan justeres)\n",
    "pd.options.display.max_rows=200\n",
    "df_sang.value_counts('artist', ascending=False)[:200]"
   ]
  },
  {
   "cell_type": "code",
   "execution_count": null,
   "id": "50621624-08f1-4599-89c1-5c8eeb6e5839",
   "metadata": {},
   "outputs": [],
   "source": [
    "# sjekk sanger for en valgt artist\n",
    "df_sang[df_sang['artist']=='Snoop Dogg'][:200]['song_label']"
   ]
  },
  {
   "cell_type": "markdown",
   "id": "57d42844-0b2f-49fc-91ac-ae0c79f19a17",
   "metadata": {},
   "source": [
    "For å begrense ventetid lager vi et tilfeldig sample på 100 sanger (kan justeres) som vi bruker videre. I koden under er samplet begrenset til noen utvalgte artister - gjør gjerne endringer i utvalget!"
   ]
  },
  {
   "cell_type": "code",
   "execution_count": null,
   "id": "dfffedc7-1585-4281-b7cc-67add68d5385",
   "metadata": {
    "scrolled": true
   },
   "outputs": [],
   "source": [
    "# lager sample på 100 sanger, noen valgte artister\n",
    "df_sang_sample=df_sang[df_sang['artist'].isin(['Bob Dylan', 'Snoop Dogg', 'Backstreet Boys', 'Lana Del Rey', 'Eminem', 'Taylor Swift'])].sample(n=100).reset_index()\n",
    "print(df_sang_sample['song_label'][:100])"
   ]
  },
  {
   "cell_type": "markdown",
   "id": "dcf692d1-a639-47ed-a810-e81ce3fc5817",
   "metadata": {},
   "source": [
    "Vi lager så embeddings av tekstene i utvalget vårt med hjelp av funksjonene vi lagde i forrige avsnitt."
   ]
  },
  {
   "cell_type": "code",
   "execution_count": null,
   "id": "442f9ce3-7947-481a-b193-10381aa77445",
   "metadata": {},
   "outputs": [],
   "source": [
    "# lager array med embeddings\n",
    "sang_embed_array, sang_embed_lbl, sang_embed_cat=embed_df(client, df_sang_sample, 'lyrics', 'song_label', 'artist', \"text-embedding-3-small\")"
   ]
  },
  {
   "cell_type": "markdown",
   "id": "0d8835e5-a17a-44c7-9b68-bd7c8798ff46",
   "metadata": {},
   "source": [
    "Vi kan nå sjekke similaritet mellom tekstene, eller med annen input - tekst om vi ønsker:"
   ]
  },
  {
   "cell_type": "code",
   "execution_count": null,
   "id": "494e5c99-63a0-4abc-9207-03246de0b4b0",
   "metadata": {
    "scrolled": true
   },
   "outputs": [],
   "source": [
    "# beregning av similaritet med input-tekst\n",
    "\n",
    "#ref_lyrics: sangteksten vi ønsker å sammenligne de andre med. Her kan man selvfølgelig også oppgi en annen, vilkårlig tekst \n",
    "ref_lyrics=df_sang_sample.iloc[1][\"lyrics\"]\n",
    "\n",
    "similarities=similarity_rank_2(client, sang_embed_array, ref_lyrics, 'text-embedding-3-small')\n",
    "df_sang_sample[\"similarities_arr\"]=similarities"
   ]
  },
  {
   "cell_type": "code",
   "execution_count": null,
   "id": "bfd7148a-75d2-44e7-a6cc-738574c7cbb6",
   "metadata": {},
   "outputs": [],
   "source": [
    "df_sang_sample"
   ]
  },
  {
   "cell_type": "code",
   "execution_count": null,
   "id": "aef73645-c9b2-4e9d-9c0a-7cefe5b3fadc",
   "metadata": {},
   "outputs": [],
   "source": [
    "# viser topp n og laveste n tekster, rangert etter similaritet med input_tekst\n",
    "n=5\n",
    "sim_col=\"similarities_arr\"\n",
    "\n",
    "values_topn=list(df_sang_sample.nlargest(n,sim_col).sort_values(sim_col, ascending=True)[sim_col]) \n",
    "values_smalln=list(df_sang_sample.nsmallest(n,sim_col).sort_values(sim_col, ascending=True)[sim_col])\n",
    "\n",
    "names_topn=list(df_sang_sample.nlargest(n,sim_col).sort_values(sim_col, ascending=True)[\"song_label\"])\n",
    "names_smalln=list(df_sang_sample.nsmallest(n,sim_col).sort_values(sim_col, ascending=True)[\"song_label\"])\n",
    "\n",
    "values=values_smalln+values_topn\n",
    "names=[c.replace('$', 'S') for c in names_smalln+names_topn] # Paid da cost to be da bo$$ quick fix  \n",
    "\n",
    "fig, ax = plt.subplots(figsize=(10,5))\n",
    "ax.barh(names_smalln, values_smalln)\n",
    "ax.barh(names_topn, values_topn)\n",
    "\n",
    "plt.title('Top/bottom similarity with ' + ref_lyrics[:50] + '...')\n",
    "plt.show()\n"
   ]
  },
  {
   "cell_type": "markdown",
   "id": "24deb568-3d3d-4bd2-b7b1-dcdf069b8092",
   "metadata": {},
   "source": [
    "Er det noen fornuft i rangeringen? Bruk gjerne hjelpefunksjonen under for å inspisere to tekster ved siden av hverandre. "
   ]
  },
  {
   "cell_type": "code",
   "execution_count": null,
   "id": "0c9bc393-6122-43d0-9b8c-509d6ed2868f",
   "metadata": {},
   "outputs": [],
   "source": [
    "# hjelpefunksjon for sjekk av tekster mot hverandre\n",
    "def view_lyrics(df, song_id_1, song_id_2):\n",
    "    df_temp=df_sang_sample.loc[df_sang_sample['song_id'] == song_id_1].reset_index()\n",
    "    label1=df_temp.loc[0, \"song_label\"]\n",
    "    lyrics1=df_temp.loc[0, \"lyrics\"]\n",
    "\n",
    "    df_temp=df_sang_sample.loc[df_sang_sample['song_id'] == song_id_2].reset_index()\n",
    "    label2=df_temp.loc[0, \"song_label\"]\n",
    "    lyrics2=df_temp.loc[0, \"lyrics\"]\n",
    "    \n",
    "    html_code = f\"\"\"\n",
    "    <div style=\"display: flex; justify-content: space-between;\">\n",
    "        <div style=\"flex: 1; padding-right: 8px;\">\n",
    "            <h2>{label1}</h2>\n",
    "            <pre style=\"font-size: 9px;\"> {lyrics1} </pre>\n",
    "        </div>\n",
    "        <div style=\"flex: 1; padding-left: px;\">\n",
    "            <h2>{label2}</h2>\n",
    "            <pre style=\"font-size: 9px;\">{lyrics2}</pre>\n",
    "        </div>\n",
    "    </div>\n",
    "    \"\"\"\n",
    "    return html_code"
   ]
  },
  {
   "cell_type": "code",
   "execution_count": null,
   "id": "cb00f271-9693-4816-9cab-4ed3bbd2ac1d",
   "metadata": {},
   "outputs": [],
   "source": [
    "df_sang_sample"
   ]
  },
  {
   "cell_type": "code",
   "execution_count": null,
   "id": "66bd0918-a5e9-4108-a621-cd6d42238bdb",
   "metadata": {},
   "outputs": [],
   "source": [
    "# vis to tekster ved siden av hverandre - bruk sang_id for valg av tekster\n",
    "# NB - gir feil hvis IDer ikke finnes i df_sang_sample dataframe, pass på å velge IDer som er i aktuelt sample.\n",
    "display(HTML(view_lyrics(df_sang_sample, 10347, 726)))"
   ]
  },
  {
   "cell_type": "markdown",
   "id": "ebe5e71f-9528-4464-b529-1f4cfc3318c1",
   "metadata": {},
   "source": [
    "Vi kan også sjekke hvordan PCA eller t-SNE (t-distributed stochastic neighbor embedding) dimensjonsreduksjon plasserer sangene i to dimensjoner. Ser det f eks ut til at sangene fra samme artist er samlet i noen grad?\n",
    "\n",
    "For TSNE, test gjerne effekten av å justere på perplexity - parameteren."
   ]
  },
  {
   "cell_type": "code",
   "execution_count": null,
   "id": "14575c46-87e4-436e-92d2-3e1a0442ae63",
   "metadata": {},
   "outputs": [],
   "source": [
    "# PCA-plott av embeddings, med artist som kategori\n",
    " \n",
    "plot_embeddings(sang_embed_array, sang_embed_lbl, sang_embed_cat)"
   ]
  },
  {
   "cell_type": "code",
   "execution_count": null,
   "id": "bb503c27-ba68-4e3e-8ee9-cbc6ad8d3bcb",
   "metadata": {},
   "outputs": [],
   "source": [
    "# t-SNE - alternativ (ikke-lineær) metode for dimensjonsreduksjon\n",
    "\n",
    "def plot_embeddings_tsne(embedding_vectors, labels, cats, show_labels=False, perplexity=10):\n",
    "    # Create a TSNE model\n",
    "    tsne_model = TSNE(n_components=2, random_state=42, perplexity=perplexity)\n",
    "\n",
    "    # Fit and transform the data to obtain PCA coordinates\n",
    "    tsne_result = tsne_model.fit_transform(embedding_vectors)\n",
    "\n",
    "    # Plot the TSNE result\n",
    "    cat_list=list(set(cats))\n",
    "    cat_vals=[cat_list.index(c) for c in cats]\n",
    "    fig=plt.figure(figsize=(8, 6))\n",
    "    ax=fig.add_subplot(111)\n",
    "\n",
    "    plt.title('PCA Projection of Embedding Vectors')\n",
    "    \n",
    "    cmap='tab20'\n",
    "    color_map = plt.colormaps[cmap].resampled(20)\n",
    "    \n",
    "    # scatterplot by artist\n",
    "    for i, cat in enumerate(cat_list):\n",
    "        filter_arr = []\n",
    "        for catval in cats:\n",
    "            if catval==cat:\n",
    "                filter_arr.append(True)\n",
    "            else:\n",
    "                filter_arr.append(False)\n",
    "\n",
    "        plt.scatter(tsne_result[filter_arr, 0], tsne_result[filter_arr, 1], color=color_map(i/len(cat_list)), label=cat, s=20) \n",
    "         \n",
    "    plt.legend()  \n",
    "    plt.title('TSNE Projection of Embedding Vectors')    \n",
    "    plt.grid(alpha=0.2)\n",
    "     \n",
    "    plt.show()    \n",
    "    \n",
    "# test gjerne forskjellige verdier for perplexity\n",
    "plot_embeddings_tsne(sang_embed_array, sang_embed_lbl, sang_embed_cat, perplexity=30, show_labels=False)"
   ]
  },
  {
   "cell_type": "code",
   "execution_count": null,
   "id": "b99c3628-8208-4ddf-ad02-b91cb4055005",
   "metadata": {},
   "outputs": [],
   "source": []
  }
 ],
 "metadata": {
  "kernelspec": {
   "display_name": "Python 3 (ipykernel)",
   "language": "python",
   "name": "python3"
  },
  "language_info": {
   "codemirror_mode": {
    "name": "ipython",
    "version": 3
   },
   "file_extension": ".py",
   "mimetype": "text/x-python",
   "name": "python",
   "nbconvert_exporter": "python",
   "pygments_lexer": "ipython3",
   "version": "3.11.0"
  }
 },
 "nbformat": 4,
 "nbformat_minor": 5
}
